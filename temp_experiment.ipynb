{
 "cells": [
  {
   "cell_type": "code",
   "execution_count": 2,
   "metadata": {},
   "outputs": [],
   "source": [
    "import torch\n",
    "import os"
   ]
  },
  {
   "cell_type": "code",
   "execution_count": 3,
   "metadata": {},
   "outputs": [
    {
     "data": {
      "text/plain": [
       "'c:\\\\Users\\\\dsd09\\\\OneDrive\\\\Project\\\\KAIST_Model_Internal_Analysis\\\\CausalMediationAnalysis'"
      ]
     },
     "execution_count": 3,
     "metadata": {},
     "output_type": "execute_result"
    }
   ],
   "source": [
    "os.getcwd()"
   ]
  },
  {
   "cell_type": "code",
   "execution_count": 4,
   "metadata": {},
   "outputs": [
    {
     "ename": "TypeError",
     "evalue": "eval() arg 1 must be a string, bytes or code object",
     "output_type": "error",
     "traceback": [
      "\u001b[1;31m---------------------------------------------------------------------------\u001b[0m",
      "\u001b[1;31mTypeError\u001b[0m                                 Traceback (most recent call last)",
      "\u001b[1;32m~\\AppData\\Local\\Temp\\ipykernel_149320\\2163456982.py\u001b[0m in \u001b[0;36m<module>\u001b[1;34m\u001b[0m\n\u001b[1;32m----> 1\u001b[1;33m \u001b[0meval\u001b[0m\u001b[1;33m(\u001b[0m\u001b[1;33m[\u001b[0m\u001b[1;34m\"accountant\"\u001b[0m\u001b[1;33m,\u001b[0m \u001b[1;36m0.0\u001b[0m\u001b[1;33m,\u001b[0m \u001b[1;36m0.4\u001b[0m\u001b[1;33m]\u001b[0m\u001b[1;33m)\u001b[0m\u001b[1;33m\u001b[0m\u001b[1;33m\u001b[0m\u001b[0m\n\u001b[0m",
      "\u001b[1;31mTypeError\u001b[0m: eval() arg 1 must be a string, bytes or code object"
     ]
    }
   ],
   "source": [
    "eval([\"accountant\", 0.0, 0.4])"
   ]
  },
  {
   "cell_type": "code",
   "execution_count": 10,
   "metadata": {},
   "outputs": [],
   "source": [
    "def get_profession_list():\n",
    "    # Get the list of all considered professions\n",
    "    word_list = []\n",
    "    with open(\"experiment_data/professions.json\", \"r\") as f:\n",
    "        for l in f:\n",
    "            print(f)\n",
    "            # 식을 eval로 입력 받아서 \n",
    "            for j in eval(l): \n",
    "                word_list.append(j[0])\n",
    "    return word_list"
   ]
  },
  {
   "cell_type": "code",
   "execution_count": 11,
   "metadata": {},
   "outputs": [
    {
     "name": "stdout",
     "output_type": "stream",
     "text": [
      "<_io.TextIOWrapper name='experiment_data/professions.json' mode='r' encoding='UTF-8'>\n"
     ]
    },
    {
     "data": {
      "text/plain": [
       "['accountant',\n",
       " 'acquaintance',\n",
       " 'actor',\n",
       " 'actress',\n",
       " 'adjunct_professor',\n",
       " 'administrator',\n",
       " 'adventurer',\n",
       " 'advocate',\n",
       " 'aide',\n",
       " 'alderman',\n",
       " 'alter_ego',\n",
       " 'ambassador',\n",
       " 'analyst',\n",
       " 'anthropologist',\n",
       " 'archaeologist',\n",
       " 'archbishop',\n",
       " 'architect',\n",
       " 'artist',\n",
       " 'artiste',\n",
       " 'assassin',\n",
       " 'assistant_professor',\n",
       " 'associate_dean',\n",
       " 'associate_professor',\n",
       " 'astronaut',\n",
       " 'astronomer',\n",
       " 'athlete',\n",
       " 'athletic_director',\n",
       " 'attorney',\n",
       " 'author',\n",
       " 'baker',\n",
       " 'ballerina',\n",
       " 'ballplayer',\n",
       " 'banker',\n",
       " 'barber',\n",
       " 'baron',\n",
       " 'barrister',\n",
       " 'bartender',\n",
       " 'biologist',\n",
       " 'bishop',\n",
       " 'bodyguard',\n",
       " 'bookkeeper',\n",
       " 'boss',\n",
       " 'boxer',\n",
       " 'broadcaster',\n",
       " 'broker',\n",
       " 'bureaucrat',\n",
       " 'businessman',\n",
       " 'businesswoman',\n",
       " 'butcher',\n",
       " 'butler',\n",
       " 'cab_driver',\n",
       " 'cabbie',\n",
       " 'cameraman',\n",
       " 'campaigner',\n",
       " 'captain',\n",
       " 'cardiologist',\n",
       " 'caretaker',\n",
       " 'carpenter',\n",
       " 'cartoonist',\n",
       " 'cellist',\n",
       " 'chancellor',\n",
       " 'chaplain',\n",
       " 'character',\n",
       " 'chef',\n",
       " 'chemist',\n",
       " 'choreographer',\n",
       " 'cinematographer',\n",
       " 'citizen',\n",
       " 'civil_servant',\n",
       " 'cleric',\n",
       " 'clerk',\n",
       " 'coach',\n",
       " 'collector',\n",
       " 'colonel',\n",
       " 'columnist',\n",
       " 'comedian',\n",
       " 'comic',\n",
       " 'commander',\n",
       " 'commentator',\n",
       " 'commissioner',\n",
       " 'composer',\n",
       " 'conductor',\n",
       " 'confesses',\n",
       " 'congressman',\n",
       " 'constable',\n",
       " 'consultant',\n",
       " 'cop',\n",
       " 'correspondent',\n",
       " 'councilman',\n",
       " 'councilor',\n",
       " 'counselor',\n",
       " 'critic',\n",
       " 'crooner',\n",
       " 'crusader',\n",
       " 'curator',\n",
       " 'custodian',\n",
       " 'dad',\n",
       " 'dancer',\n",
       " 'dean',\n",
       " 'dentist',\n",
       " 'deputy',\n",
       " 'dermatologist',\n",
       " 'detective',\n",
       " 'diplomat',\n",
       " 'director',\n",
       " 'disc_jockey',\n",
       " 'doctor',\n",
       " 'doctoral_student',\n",
       " 'drug_addict',\n",
       " 'drummer',\n",
       " 'economics_professor',\n",
       " 'economist',\n",
       " 'editor',\n",
       " 'educator',\n",
       " 'electrician',\n",
       " 'employee',\n",
       " 'entertainer',\n",
       " 'entrepreneur',\n",
       " 'environmentalist',\n",
       " 'envoy',\n",
       " 'epidemiologist',\n",
       " 'evangelist',\n",
       " 'farmer',\n",
       " 'fashion_designer',\n",
       " 'fighter_pilot',\n",
       " 'filmmaker',\n",
       " 'financier',\n",
       " 'firebrand',\n",
       " 'firefighter',\n",
       " 'fireman',\n",
       " 'fisherman',\n",
       " 'footballer',\n",
       " 'foreman',\n",
       " 'freelance_writer',\n",
       " 'gangster',\n",
       " 'gardener',\n",
       " 'geologist',\n",
       " 'goalkeeper',\n",
       " 'graphic_designer',\n",
       " 'guidance_counselor',\n",
       " 'guitarist',\n",
       " 'hairdresser',\n",
       " 'handyman',\n",
       " 'headmaster',\n",
       " 'historian',\n",
       " 'hitman',\n",
       " 'homemaker',\n",
       " 'hooker',\n",
       " 'housekeeper',\n",
       " 'housewife',\n",
       " 'illustrator',\n",
       " 'industrialist',\n",
       " 'infielder',\n",
       " 'inspector',\n",
       " 'instructor',\n",
       " 'interior_designer',\n",
       " 'inventor',\n",
       " 'investigator',\n",
       " 'investment_banker',\n",
       " 'janitor',\n",
       " 'jeweler',\n",
       " 'journalist',\n",
       " 'judge',\n",
       " 'jurist',\n",
       " 'laborer',\n",
       " 'landlord',\n",
       " 'lawmaker',\n",
       " 'lawyer',\n",
       " 'lecturer',\n",
       " 'legislator',\n",
       " 'librarian',\n",
       " 'lieutenant',\n",
       " 'lifeguard',\n",
       " 'lyricist',\n",
       " 'maestro',\n",
       " 'magician',\n",
       " 'magistrate',\n",
       " 'maid',\n",
       " 'major_leaguer',\n",
       " 'manager',\n",
       " 'marksman',\n",
       " 'marshal',\n",
       " 'mathematician',\n",
       " 'mechanic',\n",
       " 'mediator',\n",
       " 'medic',\n",
       " 'midfielder',\n",
       " 'minister',\n",
       " 'missionary',\n",
       " 'mobster',\n",
       " 'monk',\n",
       " 'musician',\n",
       " 'nanny',\n",
       " 'narrator',\n",
       " 'naturalist',\n",
       " 'negotiator',\n",
       " 'neurologist',\n",
       " 'neurosurgeon',\n",
       " 'novelist',\n",
       " 'nun',\n",
       " 'nurse',\n",
       " 'observer',\n",
       " 'officer',\n",
       " 'organist',\n",
       " 'painter',\n",
       " 'paralegal',\n",
       " 'parishioner',\n",
       " 'parliamentarian',\n",
       " 'pastor',\n",
       " 'pathologist',\n",
       " 'patrolman',\n",
       " 'pediatrician',\n",
       " 'performer',\n",
       " 'pharmacist',\n",
       " 'philanthropist',\n",
       " 'philosopher',\n",
       " 'photographer',\n",
       " 'photojournalist',\n",
       " 'physician',\n",
       " 'physicist',\n",
       " 'pianist',\n",
       " 'planner',\n",
       " 'plastic_surgeon',\n",
       " 'playwright',\n",
       " 'plumber',\n",
       " 'poet',\n",
       " 'policeman',\n",
       " 'politician',\n",
       " 'pollster',\n",
       " 'preacher',\n",
       " 'president',\n",
       " 'priest',\n",
       " 'principal',\n",
       " 'prisoner',\n",
       " 'professor',\n",
       " 'professor_emeritus',\n",
       " 'programmer',\n",
       " 'promoter',\n",
       " 'proprietor',\n",
       " 'prosecutor',\n",
       " 'protagonist',\n",
       " 'protege',\n",
       " 'protester',\n",
       " 'provost',\n",
       " 'psychiatrist',\n",
       " 'psychologist',\n",
       " 'publicist',\n",
       " 'pundit',\n",
       " 'rabbi',\n",
       " 'radiologist',\n",
       " 'ranger',\n",
       " 'realtor',\n",
       " 'receptionist',\n",
       " 'registered_nurse',\n",
       " 'researcher',\n",
       " 'restaurateur',\n",
       " 'sailor',\n",
       " 'saint',\n",
       " 'salesman',\n",
       " 'saxophonist',\n",
       " 'scholar',\n",
       " 'scientist',\n",
       " 'screenwriter',\n",
       " 'sculptor',\n",
       " 'secretary',\n",
       " 'senator',\n",
       " 'sergeant',\n",
       " 'servant',\n",
       " 'serviceman',\n",
       " 'sheriff_deputy',\n",
       " 'shopkeeper',\n",
       " 'singer',\n",
       " 'singer_songwriter',\n",
       " 'skipper',\n",
       " 'socialite',\n",
       " 'sociologist',\n",
       " 'soft_spoken',\n",
       " 'soldier',\n",
       " 'solicitor',\n",
       " 'solicitor_general',\n",
       " 'soloist',\n",
       " 'sportsman',\n",
       " 'sportswriter',\n",
       " 'statesman',\n",
       " 'steward',\n",
       " 'stockbroker',\n",
       " 'strategist',\n",
       " 'student',\n",
       " 'stylist',\n",
       " 'substitute',\n",
       " 'superintendent',\n",
       " 'surgeon',\n",
       " 'surveyor',\n",
       " 'swimmer',\n",
       " 'taxi_driver',\n",
       " 'teacher',\n",
       " 'technician',\n",
       " 'teenager',\n",
       " 'therapist',\n",
       " 'trader',\n",
       " 'treasurer',\n",
       " 'trooper',\n",
       " 'trucker',\n",
       " 'trumpeter',\n",
       " 'tutor',\n",
       " 'tycoon',\n",
       " 'undersecretary',\n",
       " 'understudy',\n",
       " 'valedictorian',\n",
       " 'vice_chancellor',\n",
       " 'violinist',\n",
       " 'vocalist',\n",
       " 'waiter',\n",
       " 'waitress',\n",
       " 'warden',\n",
       " 'warrior',\n",
       " 'welder',\n",
       " 'worker',\n",
       " 'wrestler',\n",
       " 'writer']"
      ]
     },
     "execution_count": 11,
     "metadata": {},
     "output_type": "execute_result"
    }
   ],
   "source": [
    "get_profession_list()"
   ]
  },
  {
   "cell_type": "code",
   "execution_count": 22,
   "metadata": {},
   "outputs": [
    {
     "name": "stderr",
     "output_type": "stream",
     "text": [
      "c:\\Users\\dsd09\\anaconda3\\lib\\site-packages\\huggingface_hub\\file_download.py:1132: FutureWarning: `resume_download` is deprecated and will be removed in version 1.0.0. Downloads always resume when possible. If you want to force a new download, use `force_download=True`.\n",
      "  warnings.warn(\n"
     ]
    },
    {
     "data": {
      "application/vnd.jupyter.widget-view+json": {
       "model_id": "3fb549d58d9347e29e1c5128a08d8464",
       "version_major": 2,
       "version_minor": 0
      },
      "text/plain": [
       "generation_config.json:   0%|          | 0.00/124 [00:00<?, ?B/s]"
      ]
     },
     "metadata": {},
     "output_type": "display_data"
    },
    {
     "name": "stdout",
     "output_type": "stream",
     "text": [
      "{'input_ids': tensor([[15496,    11,   703,   389,   345,    30]]), 'attention_mask': tensor([[1, 1, 1, 1, 1, 1]])}\n",
      "tensor([[15496,    11,   703,   389,   345,    30]])\n"
     ]
    }
   ],
   "source": [
    "# 예시\n",
    "import torch\n",
    "from transformers import GPT2LMHeadModel, GPT2Tokenizer\n",
    "\n",
    "# BERT 모델과 토크나이저 로드\n",
    "model_name = 'gpt2'\n",
    "model = GPT2LMHeadModel.from_pretrained(model_name)\n",
    "tokenizer = GPT2Tokenizer.from_pretrained(model_name)\n",
    "\n",
    "# 입력 텍스트 토큰화\n",
    "input_text = \"Hello, how are you?\"\n",
    "inputs = tokenizer(input_text, return_tensors=\"pt\")\n",
    "\n",
    "# 토큰 인덱스 추출\n",
    "token_ids = inputs['input_ids']\n",
    "\n",
    "print(inputs)\n",
    "print(token_ids)"
   ]
  },
  {
   "cell_type": "code",
   "execution_count": 23,
   "metadata": {},
   "outputs": [
    {
     "name": "stdout",
     "output_type": "stream",
     "text": [
      "12\n",
      "768\n",
      "12\n"
     ]
    }
   ],
   "source": [
    "print(model.config.num_hidden_layers) # model의 hidden layer 개수를 볼 수 있다.\n",
    "print(model.config.hidden_size)\n",
    "print(model.config.num_attention_heads)"
   ]
  },
  {
   "cell_type": "code",
   "execution_count": 27,
   "metadata": {},
   "outputs": [
    {
     "data": {
      "text/plain": [
       "GPT2Block(\n",
       "  (ln_1): LayerNorm((768,), eps=1e-05, elementwise_affine=True)\n",
       "  (attn): GPT2Attention(\n",
       "    (c_attn): Conv1D()\n",
       "    (c_proj): Conv1D()\n",
       "    (attn_dropout): Dropout(p=0.1, inplace=False)\n",
       "    (resid_dropout): Dropout(p=0.1, inplace=False)\n",
       "  )\n",
       "  (ln_2): LayerNorm((768,), eps=1e-05, elementwise_affine=True)\n",
       "  (mlp): GPT2MLP(\n",
       "    (c_fc): Conv1D()\n",
       "    (c_proj): Conv1D()\n",
       "    (act): NewGELUActivation()\n",
       "    (dropout): Dropout(p=0.1, inplace=False)\n",
       "  )\n",
       ")"
      ]
     },
     "execution_count": 27,
     "metadata": {},
     "output_type": "execute_result"
    }
   ],
   "source": [
    "model.transformer.h[0]"
   ]
  },
  {
   "cell_type": "code",
   "execution_count": 59,
   "metadata": {},
   "outputs": [],
   "source": [
    "text = 'The nurse is beautiful'\n",
    "enc = tokenizer.encode(text, add_special_tokens=False)\n",
    "enc =  torch.LongTensor(enc).unsqueeze(0)\n",
    "output = model(enc)[0]"
   ]
  },
  {
   "cell_type": "code",
   "execution_count": 61,
   "metadata": {},
   "outputs": [
    {
     "data": {
      "text/plain": [
       "torch.Size([1, 4, 50257])"
      ]
     },
     "execution_count": 61,
     "metadata": {},
     "output_type": "execute_result"
    }
   ],
   "source": [
    "output.size()"
   ]
  },
  {
   "cell_type": "code",
   "execution_count": 54,
   "metadata": {},
   "outputs": [
    {
     "data": {
      "text/plain": [
       "torch.Size([1, 4, 50257])"
      ]
     },
     "execution_count": 54,
     "metadata": {},
     "output_type": "execute_result"
    }
   ],
   "source": [
    "output.logits.size()"
   ]
  },
  {
   "cell_type": "code",
   "execution_count": 58,
   "metadata": {},
   "outputs": [
    {
     "ename": "AttributeError",
     "evalue": "'CausalLMOutputWithCrossAttentions' object has no attribute 'gather'",
     "output_type": "error",
     "traceback": [
      "\u001b[1;31m---------------------------------------------------------------------------\u001b[0m",
      "\u001b[1;31mAttributeError\u001b[0m                            Traceback (most recent call last)",
      "\u001b[1;32m~\\AppData\\Local\\Temp\\ipykernel_47140\\2903503396.py\u001b[0m in \u001b[0;36m<module>\u001b[1;34m\u001b[0m\n\u001b[1;32m----> 1\u001b[1;33m \u001b[0moutput\u001b[0m\u001b[1;33m.\u001b[0m\u001b[0mgather\u001b[0m\u001b[1;33m(\u001b[0m\u001b[1;36m1\u001b[0m\u001b[1;33m,\u001b[0m\u001b[1;33m[\u001b[0m\u001b[1;36m1\u001b[0m\u001b[1;33m,\u001b[0m\u001b[1;36m2\u001b[0m\u001b[1;33m]\u001b[0m\u001b[1;33m)\u001b[0m\u001b[1;33m\u001b[0m\u001b[1;33m\u001b[0m\u001b[0m\n\u001b[0m",
      "\u001b[1;31mAttributeError\u001b[0m: 'CausalLMOutputWithCrossAttentions' object has no attribute 'gather'"
     ]
    }
   ],
   "source": [
    "output.gather(1,[1,2])"
   ]
  },
  {
   "cell_type": "code",
   "execution_count": null,
   "metadata": {},
   "outputs": [],
   "source": []
  }
 ],
 "metadata": {
  "kernelspec": {
   "display_name": "base",
   "language": "python",
   "name": "python3"
  },
  "language_info": {
   "codemirror_mode": {
    "name": "ipython",
    "version": 3
   },
   "file_extension": ".py",
   "mimetype": "text/x-python",
   "name": "python",
   "nbconvert_exporter": "python",
   "pygments_lexer": "ipython3",
   "version": "3.9.15"
  }
 },
 "nbformat": 4,
 "nbformat_minor": 2
}
